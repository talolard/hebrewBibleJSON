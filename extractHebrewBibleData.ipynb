{
 "cells": [
  {
   "attachments": {
    "image.png": {
     "image/png": "[encoded data removed]"
    }
   },
   "cell_type": "markdown",
   "metadata": {},
   "source": [
    "# The Hebrew Bible As JSON\n",
    "Our [Text Annotation Tool](https://www.lighttag.io) has to work on any language, including RTL ones. We like to use the Bible for testing, but have been frustrated that it's hard to find it in a nice JSON format. \n",
    "\n",
    "So, this notebook and repo build that out. We use this for testing RTL stuff, you can use this to do fun NLP on the Bible in Hebrew\n",
    "![image.png](attachment:image.png)"
   ]
  },
  {
   "cell_type": "code",
   "execution_count": 1,
   "metadata": {},
   "outputs": [],
   "source": [
    "from bs4 import BeautifulSoup\n",
    "import re\n",
    "import os\n",
    "import json"
   ]
  },
  {
   "cell_type": "code",
   "execution_count": 2,
   "metadata": {},
   "outputs": [],
   "source": [
    "startLineRegex = re.compile('^.{1,2},.{1,2} ') # Each verse starts with chapter,verse\n",
    "captureVerseDetails = re.compile('^(?P<chapter>.+?),(?P<verse>.+?) (?P<content>.+)') #exctract into a dict\n",
    "bookTitle = re.compile('.+ - (?P<title>.+)') #Get the book title, onece per file"
   ]
  },
  {
   "cell_type": "code",
   "execution_count": 15,
   "metadata": {},
   "outputs": [
    {
     "name": "stdout",
     "output_type": "stream",
     "text": [
      "tmp3.htm\n",
      "tmp3prq.htm\n"
     ]
    }
   ],
   "source": [
    "def structure(line,book):\n",
    "    '''\n",
    "        Get a line, split it into chapter,verse and content then append the book. \n",
    "        Returns it as a dict\n",
    "    '''\n",
    "    d = captureVerseDetails.search(line).groupdict()\n",
    "    d['book'] = book\n",
    "    return d\n",
    "res =[] #collect all the results\n",
    "for f in os.listdir('./rawData/'):\n",
    "    if not f =='t0.htm' and f.endswith('.htm') and f.startswith('t'): #Ignore stuff\n",
    "        path = os.path.join('./rawData/',f)\n",
    "        html = open(path,encoding='iso-8859-8',errors='ignore') #Why did they use that encoding ? \n",
    "        soup= BeautifulSoup(html) #Parse the html\n",
    "        txt = soup.get_text().replace('\\xa0','').replace('{פ}','') #remove decoding errors and the פ thing\n",
    "        try:\n",
    "            title = bookTitle.search(txt).groupdict()['title']\n",
    "        except:\n",
    "            print(f)\n",
    "        # Here we filter out lines that aren't versus and map the remaining to dicts\n",
    "        verses = list(map(lambda x: structure(x,title),filter(startLineRegex.match,txt.splitlines())))\n",
    "        res+=verses #append it to all of our results\n",
    "\n",
    "        \n"
   ]
  },
  {
   "cell_type": "code",
   "execution_count": 16,
   "metadata": {},
   "outputs": [],
   "source": [
    "json.dump(res,open('./jsons/hebreBibleVerses.json','w')) #Save it"
   ]
  },
  {
   "cell_type": "code",
   "execution_count": 17,
   "metadata": {},
   "outputs": [],
   "source": [
    "startLineRegex.match(txt)"
   ]
  },
  {
   "cell_type": "code",
   "execution_count": 18,
   "metadata": {},
   "outputs": [
    {
     "name": "stdout",
     "output_type": "stream",
     "text": [
      "[{'chapter': 'א', 'verse': 'א', 'content': 'המשא אשר חזה, חבקוק הנביא.', 'book': 'חבקוק'}, {'chapter': 'א', 'verse': 'ב', 'content': 'עד-אנה יהוה שועתי, ולא תשמע: אזעק אליך חמס, ולא תושיע.', 'book': 'חבקוק'}, {'chapter': 'א', 'verse': 'ג', 'content': 'למה תראני און ועמל תביט, ושד וחמס לנגדי; ויהי ריב ומדון, ישא.', 'book': 'חבקוק'}, {'chapter': 'א', 'verse': 'ד', 'content': 'על-כן תפוג תורה, ולא-יצא לנצח משפט: כי רשע מכתיר את-הצדיק, על-כן יצא משפט מעקל.', 'book': 'חבקוק'}, {'chapter': 'א', 'verse': 'ה', 'content': 'ראו בגוים והביטו, והתמהו תמהו: כי-פעל פעל בימיכם, לא תאמינו כי יספר.', 'book': 'חבקוק'}, {'chapter': 'א', 'verse': 'ו', 'content': 'כי-הנני מקים את-הכשדים, הגוי המר והנמהר; ההולך, למרחבי-ארץ, לרשת, משכנות לא-לו.', 'book': 'חבקוק'}, {'chapter': 'א', 'verse': 'ז', 'content': 'אים ונורא, הוא; ממנו, משפטו ושאתו יצא.', 'book': 'חבקוק'}, {'chapter': 'א', 'verse': 'ח', 'content': 'וקלו מנמרים סוסיו, וחדו מזאבי ערב, ופשו, פרשיו; ופרשיו, מרחוק יבאו--יעפו, כנשר חש לאכול.', 'book': 'חבקוק'}, {'chapter': 'א', 'verse': 'ט', 'content': 'כלה לחמס יבוא, מגמת פניהם קדימה; ויאסף כחול, שבי.', 'book': 'חבקוק'}, {'chapter': 'א', 'verse': 'י', 'content': 'והוא במלכים יתקלס, ורזנים משחק לו; הוא לכל-מבצר ישחק, ויצבר עפר וילכדה.', 'book': 'חבקוק'}]\n"
     ]
    }
   ],
   "source": [
    "print((res[:10]))"
   ]
  }
 ],
 "metadata": {
  "kernelspec": {
   "display_name": "Python 3",
   "language": "python",
   "name": "python3"
  },
  "language_info": {
   "codemirror_mode": {
    "name": "ipython",
    "version": 3
   },
   "file_extension": ".py",
   "mimetype": "text/x-python",
   "name": "python",
   "nbconvert_exporter": "python",
   "pygments_lexer": "ipython3",
   "version": "3.6.7"
  }
 },
 "nbformat": 4,
 "nbformat_minor": 2
}
